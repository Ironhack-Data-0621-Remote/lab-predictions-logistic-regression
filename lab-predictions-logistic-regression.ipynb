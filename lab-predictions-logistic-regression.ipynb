{
 "cells": [
  {
   "cell_type": "code",
   "execution_count": 1,
   "metadata": {},
   "outputs": [
    {
     "name": "stdout",
     "output_type": "stream",
     "text": [
      "········\n"
     ]
    }
   ],
   "source": [
    "import getpass  # to get the password without showing the input\n",
    "password = getpass.getpass()"
   ]
  },
  {
   "cell_type": "code",
   "execution_count": 2,
   "metadata": {},
   "outputs": [],
   "source": [
    "import pymysql\n",
    "from sqlalchemy import create_engine\n",
    "import pandas as pd\n",
    "import numpy as np\n",
    "import seaborn as sns\n",
    "import matplotlib.pyplot as plt\n",
    "\n",
    "from sklearn.metrics import confusion_matrix\n",
    "from sklearn.model_selection import train_test_split\n",
    "from sklearn.linear_model import LogisticRegression\n",
    "from sklearn.preprocessing import StandardScaler\n",
    "\n",
    "from imblearn.over_sampling import SMOTE"
   ]
  },
  {
   "cell_type": "code",
   "execution_count": 3,
   "metadata": {},
   "outputs": [],
   "source": [
    "connection_string = 'mysql+pymysql://root:' + password + '@localhost/sakila'\n",
    "connection_string_2 = 'mysql+pymysql://root:' + password + '@localhost/demo_db'\n",
    "\n",
    "engine = create_engine(connection_string)\n",
    "engine_2 = create_engine(connection_string_2)"
   ]
  },
  {
   "cell_type": "markdown",
   "metadata": {},
   "source": [
    "Notes:\n",
    "- category_id will have to be stored as a string"
   ]
  },
  {
   "cell_type": "markdown",
   "metadata": {},
   "source": [
    "### 1- Create an SQL query or queries to extract the information you think may be relevant for building the prediction model. It should include some film features and some rental features"
   ]
  },
  {
   "cell_type": "code",
   "execution_count": 4,
   "metadata": {},
   "outputs": [
    {
     "data": {
      "text/html": [
       "<div>\n",
       "<style scoped>\n",
       "    .dataframe tbody tr th:only-of-type {\n",
       "        vertical-align: middle;\n",
       "    }\n",
       "\n",
       "    .dataframe tbody tr th {\n",
       "        vertical-align: top;\n",
       "    }\n",
       "\n",
       "    .dataframe thead th {\n",
       "        text-align: right;\n",
       "    }\n",
       "</style>\n",
       "<table border=\"1\" class=\"dataframe\">\n",
       "  <thead>\n",
       "    <tr style=\"text-align: right;\">\n",
       "      <th></th>\n",
       "      <th>film_id</th>\n",
       "      <th>count_rentals</th>\n",
       "      <th>release_year</th>\n",
       "      <th>rental_rate</th>\n",
       "      <th>rating</th>\n",
       "      <th>category_id</th>\n",
       "    </tr>\n",
       "  </thead>\n",
       "  <tbody>\n",
       "    <tr>\n",
       "      <th>0</th>\n",
       "      <td>1</td>\n",
       "      <td>23</td>\n",
       "      <td>2006</td>\n",
       "      <td>0.99</td>\n",
       "      <td>PG</td>\n",
       "      <td>6</td>\n",
       "    </tr>\n",
       "    <tr>\n",
       "      <th>1</th>\n",
       "      <td>2</td>\n",
       "      <td>7</td>\n",
       "      <td>2006</td>\n",
       "      <td>4.99</td>\n",
       "      <td>G</td>\n",
       "      <td>11</td>\n",
       "    </tr>\n",
       "    <tr>\n",
       "      <th>2</th>\n",
       "      <td>3</td>\n",
       "      <td>12</td>\n",
       "      <td>2006</td>\n",
       "      <td>2.99</td>\n",
       "      <td>NC-17</td>\n",
       "      <td>6</td>\n",
       "    </tr>\n",
       "  </tbody>\n",
       "</table>\n",
       "</div>"
      ],
      "text/plain": [
       "   film_id  count_rentals  release_year  rental_rate rating  category_id\n",
       "0        1             23          2006         0.99     PG            6\n",
       "1        2              7          2006         4.99      G           11\n",
       "2        3             12          2006         2.99  NC-17            6"
      ]
     },
     "execution_count": 4,
     "metadata": {},
     "output_type": "execute_result"
    }
   ],
   "source": [
    "query1 = '''\n",
    "with cte3 as(\n",
    "select distinct f.film_id, count(r.inventory_id) as count_rentals, f.release_year, f.rental_rate, f.rating\n",
    "from film f\n",
    "left join inventory i \n",
    "on i.film_id = f.film_id\n",
    "left join rental r \n",
    "on i.inventory_id = r.inventory_id\n",
    "left join film_category fc\n",
    "on f.film_id = fc.film_id\n",
    "group by f.film_id)\n",
    "select cte3.film_id, cte3.count_rentals, cte3.release_year, cte3.rental_rate, cte3.rating, fc.category_id\n",
    "from cte3\n",
    "left join film_category fc\n",
    "on cte3.film_id = fc.film_id\n",
    "'''\n",
    "features = pd.read_sql_query(query1, engine)\n",
    "features.head(3)"
   ]
  },
  {
   "cell_type": "markdown",
   "metadata": {},
   "source": [
    "### 4- Create a query to get the list of films and a boolean indicating if it was rented last month. This would be our target variable"
   ]
  },
  {
   "cell_type": "markdown",
   "metadata": {},
   "source": [
    "1. We first get a df and a list with the film_id of all the films that were rented in the last month"
   ]
  },
  {
   "cell_type": "code",
   "execution_count": 5,
   "metadata": {},
   "outputs": [],
   "source": [
    "query2 = '''\n",
    "select f.film_id, year(r.rental_date) as year,  month(r.rental_date) as month\n",
    "from film f\n",
    "left join inventory i \n",
    "on i.film_id = f.film_id\n",
    "left join rental r \n",
    "on i.inventory_id = r.inventory_id\n",
    "where year(r.rental_date) = (\n",
    "with cte1 as(\n",
    "select distinct year(rental_date) as year, month(rental_date) as month, dense_rank() over(order by year(rental_date) desc, month(rental_date) desc) as ranking\n",
    "from rental),\n",
    "cte2 as(\n",
    "select *\n",
    "from cte1\n",
    "where ranking = 1)\n",
    "select year from cte2\n",
    ")\n",
    "and month(r.rental_date) = (\n",
    "with cte1 as(\n",
    "select distinct year(rental_date) as year, month(rental_date) as month, dense_rank() over(order by year(rental_date) desc, month(rental_date) desc) as ranking\n",
    "from rental),\n",
    "cte2 as(\n",
    "select *\n",
    "from cte1\n",
    "where ranking = 1)\n",
    "select month from cte2\n",
    ")\n",
    "'''\n",
    "df_last_month_film_id_rented = pd.read_sql_query(query2, engine)\n",
    "last_month_film_id_rented = df_last_month_film_id_rented['film_id'].tolist()"
   ]
  },
  {
   "cell_type": "markdown",
   "metadata": {},
   "source": [
    "2. We then create a list with all the film_id"
   ]
  },
  {
   "cell_type": "code",
   "execution_count": 6,
   "metadata": {},
   "outputs": [],
   "source": [
    "query3 = '''\n",
    "select distinct film_id\n",
    "from film\n",
    "'''\n",
    "df_all_film_id = pd.read_sql_query(query3, engine)\n",
    "all_film_id = df_all_film_id['film_id'].tolist()"
   ]
  },
  {
   "cell_type": "markdown",
   "metadata": {},
   "source": [
    "3. We create a function that checks if a film_id was rented last month or not"
   ]
  },
  {
   "cell_type": "code",
   "execution_count": 7,
   "metadata": {},
   "outputs": [],
   "source": [
    "df_all_film_id.head(3)\n",
    "\n",
    "def last_month_rented(x):\n",
    "    x['rented_last_month']=0\n",
    "    for i in range(len(x.index)):\n",
    "        if x['film_id'][i] in last_month_film_id_rented:\n",
    "            x['rented_last_month'].iloc[i] = 'true'\n",
    "        else: \n",
    "            x['rented_last_month'].iloc[i] = 'false'\n"
   ]
  },
  {
   "cell_type": "code",
   "execution_count": 8,
   "metadata": {},
   "outputs": [
    {
     "name": "stderr",
     "output_type": "stream",
     "text": [
      "/usr/local/lib/python3.9/site-packages/pandas/core/indexing.py:1637: SettingWithCopyWarning: \n",
      "A value is trying to be set on a copy of a slice from a DataFrame\n",
      "\n",
      "See the caveats in the documentation: https://pandas.pydata.org/pandas-docs/stable/user_guide/indexing.html#returning-a-view-versus-a-copy\n",
      "  self._setitem_single_block(indexer, value, name)\n"
     ]
    },
    {
     "data": {
      "text/html": [
       "<div>\n",
       "<style scoped>\n",
       "    .dataframe tbody tr th:only-of-type {\n",
       "        vertical-align: middle;\n",
       "    }\n",
       "\n",
       "    .dataframe tbody tr th {\n",
       "        vertical-align: top;\n",
       "    }\n",
       "\n",
       "    .dataframe thead th {\n",
       "        text-align: right;\n",
       "    }\n",
       "</style>\n",
       "<table border=\"1\" class=\"dataframe\">\n",
       "  <thead>\n",
       "    <tr style=\"text-align: right;\">\n",
       "      <th></th>\n",
       "      <th>film_id</th>\n",
       "      <th>rented_last_month</th>\n",
       "    </tr>\n",
       "  </thead>\n",
       "  <tbody>\n",
       "    <tr>\n",
       "      <th>0</th>\n",
       "      <td>1</td>\n",
       "      <td>false</td>\n",
       "    </tr>\n",
       "    <tr>\n",
       "      <th>1</th>\n",
       "      <td>2</td>\n",
       "      <td>true</td>\n",
       "    </tr>\n",
       "    <tr>\n",
       "      <th>2</th>\n",
       "      <td>3</td>\n",
       "      <td>false</td>\n",
       "    </tr>\n",
       "    <tr>\n",
       "      <th>3</th>\n",
       "      <td>4</td>\n",
       "      <td>true</td>\n",
       "    </tr>\n",
       "    <tr>\n",
       "      <th>4</th>\n",
       "      <td>5</td>\n",
       "      <td>true</td>\n",
       "    </tr>\n",
       "    <tr>\n",
       "      <th>...</th>\n",
       "      <td>...</td>\n",
       "      <td>...</td>\n",
       "    </tr>\n",
       "    <tr>\n",
       "      <th>995</th>\n",
       "      <td>996</td>\n",
       "      <td>false</td>\n",
       "    </tr>\n",
       "    <tr>\n",
       "      <th>996</th>\n",
       "      <td>997</td>\n",
       "      <td>false</td>\n",
       "    </tr>\n",
       "    <tr>\n",
       "      <th>997</th>\n",
       "      <td>998</td>\n",
       "      <td>true</td>\n",
       "    </tr>\n",
       "    <tr>\n",
       "      <th>998</th>\n",
       "      <td>999</td>\n",
       "      <td>false</td>\n",
       "    </tr>\n",
       "    <tr>\n",
       "      <th>999</th>\n",
       "      <td>1000</td>\n",
       "      <td>false</td>\n",
       "    </tr>\n",
       "  </tbody>\n",
       "</table>\n",
       "<p>1000 rows × 2 columns</p>\n",
       "</div>"
      ],
      "text/plain": [
       "     film_id rented_last_month\n",
       "0          1             false\n",
       "1          2              true\n",
       "2          3             false\n",
       "3          4              true\n",
       "4          5              true\n",
       "..       ...               ...\n",
       "995      996             false\n",
       "996      997             false\n",
       "997      998              true\n",
       "998      999             false\n",
       "999     1000             false\n",
       "\n",
       "[1000 rows x 2 columns]"
      ]
     },
     "execution_count": 8,
     "metadata": {},
     "output_type": "execute_result"
    }
   ],
   "source": [
    "last_month_rented(df_all_film_id)\n",
    "df_all_film_id"
   ]
  },
  {
   "cell_type": "markdown",
   "metadata": {},
   "source": [
    "### 2- Read the data into a Pandas dataframe"
   ]
  },
  {
   "cell_type": "markdown",
   "metadata": {},
   "source": [
    "According to the workflow I have followed so far, I will use this step to merge the data I will use to make predictions and the target variable in one same df."
   ]
  },
  {
   "cell_type": "code",
   "execution_count": 9,
   "metadata": {
    "scrolled": true
   },
   "outputs": [
    {
     "name": "stdout",
     "output_type": "stream",
     "text": [
      "   film_id  count_rentals  release_year  rental_rate rating  category_id\n",
      "0        1             23          2006         0.99     PG            6\n",
      "1        2              7          2006         4.99      G           11\n",
      "2        3             12          2006         2.99  NC-17            6 \n",
      "\n",
      " (1000, 6) \n",
      "\n",
      "    film_id rented_last_month\n",
      "0        1             false\n",
      "1        2              true\n",
      "2        3             false \n",
      "\n",
      " (1000, 2)\n"
     ]
    }
   ],
   "source": [
    "print(features.head(3), \"\\n\\n\", features.shape, \"\\n\\n\", df_all_film_id.head(3),\"\\n\\n\",df_all_film_id.shape)"
   ]
  },
  {
   "cell_type": "code",
   "execution_count": 10,
   "metadata": {},
   "outputs": [
    {
     "data": {
      "text/html": [
       "<div>\n",
       "<style scoped>\n",
       "    .dataframe tbody tr th:only-of-type {\n",
       "        vertical-align: middle;\n",
       "    }\n",
       "\n",
       "    .dataframe tbody tr th {\n",
       "        vertical-align: top;\n",
       "    }\n",
       "\n",
       "    .dataframe thead th {\n",
       "        text-align: right;\n",
       "    }\n",
       "</style>\n",
       "<table border=\"1\" class=\"dataframe\">\n",
       "  <thead>\n",
       "    <tr style=\"text-align: right;\">\n",
       "      <th></th>\n",
       "      <th>film_id</th>\n",
       "      <th>count_rentals</th>\n",
       "      <th>release_year</th>\n",
       "      <th>rental_rate</th>\n",
       "      <th>rating</th>\n",
       "      <th>category_id</th>\n",
       "      <th>rented_last_month</th>\n",
       "    </tr>\n",
       "  </thead>\n",
       "  <tbody>\n",
       "    <tr>\n",
       "      <th>0</th>\n",
       "      <td>1</td>\n",
       "      <td>23</td>\n",
       "      <td>2006</td>\n",
       "      <td>0.99</td>\n",
       "      <td>PG</td>\n",
       "      <td>6</td>\n",
       "      <td>false</td>\n",
       "    </tr>\n",
       "    <tr>\n",
       "      <th>1</th>\n",
       "      <td>2</td>\n",
       "      <td>7</td>\n",
       "      <td>2006</td>\n",
       "      <td>4.99</td>\n",
       "      <td>G</td>\n",
       "      <td>11</td>\n",
       "      <td>true</td>\n",
       "    </tr>\n",
       "    <tr>\n",
       "      <th>2</th>\n",
       "      <td>3</td>\n",
       "      <td>12</td>\n",
       "      <td>2006</td>\n",
       "      <td>2.99</td>\n",
       "      <td>NC-17</td>\n",
       "      <td>6</td>\n",
       "      <td>false</td>\n",
       "    </tr>\n",
       "    <tr>\n",
       "      <th>3</th>\n",
       "      <td>4</td>\n",
       "      <td>23</td>\n",
       "      <td>2006</td>\n",
       "      <td>2.99</td>\n",
       "      <td>G</td>\n",
       "      <td>11</td>\n",
       "      <td>true</td>\n",
       "    </tr>\n",
       "    <tr>\n",
       "      <th>4</th>\n",
       "      <td>5</td>\n",
       "      <td>12</td>\n",
       "      <td>2006</td>\n",
       "      <td>2.99</td>\n",
       "      <td>G</td>\n",
       "      <td>8</td>\n",
       "      <td>true</td>\n",
       "    </tr>\n",
       "    <tr>\n",
       "      <th>...</th>\n",
       "      <td>...</td>\n",
       "      <td>...</td>\n",
       "      <td>...</td>\n",
       "      <td>...</td>\n",
       "      <td>...</td>\n",
       "      <td>...</td>\n",
       "      <td>...</td>\n",
       "    </tr>\n",
       "    <tr>\n",
       "      <th>995</th>\n",
       "      <td>996</td>\n",
       "      <td>7</td>\n",
       "      <td>2006</td>\n",
       "      <td>0.99</td>\n",
       "      <td>G</td>\n",
       "      <td>6</td>\n",
       "      <td>false</td>\n",
       "    </tr>\n",
       "    <tr>\n",
       "      <th>996</th>\n",
       "      <td>997</td>\n",
       "      <td>6</td>\n",
       "      <td>2006</td>\n",
       "      <td>0.99</td>\n",
       "      <td>NC-17</td>\n",
       "      <td>12</td>\n",
       "      <td>false</td>\n",
       "    </tr>\n",
       "    <tr>\n",
       "      <th>997</th>\n",
       "      <td>998</td>\n",
       "      <td>9</td>\n",
       "      <td>2006</td>\n",
       "      <td>0.99</td>\n",
       "      <td>NC-17</td>\n",
       "      <td>11</td>\n",
       "      <td>true</td>\n",
       "    </tr>\n",
       "    <tr>\n",
       "      <th>998</th>\n",
       "      <td>999</td>\n",
       "      <td>17</td>\n",
       "      <td>2006</td>\n",
       "      <td>2.99</td>\n",
       "      <td>R</td>\n",
       "      <td>3</td>\n",
       "      <td>false</td>\n",
       "    </tr>\n",
       "    <tr>\n",
       "      <th>999</th>\n",
       "      <td>1000</td>\n",
       "      <td>31</td>\n",
       "      <td>2006</td>\n",
       "      <td>4.99</td>\n",
       "      <td>NC-17</td>\n",
       "      <td>5</td>\n",
       "      <td>false</td>\n",
       "    </tr>\n",
       "  </tbody>\n",
       "</table>\n",
       "<p>1000 rows × 7 columns</p>\n",
       "</div>"
      ],
      "text/plain": [
       "     film_id  count_rentals  release_year  rental_rate rating  category_id  \\\n",
       "0          1             23          2006         0.99     PG            6   \n",
       "1          2              7          2006         4.99      G           11   \n",
       "2          3             12          2006         2.99  NC-17            6   \n",
       "3          4             23          2006         2.99      G           11   \n",
       "4          5             12          2006         2.99      G            8   \n",
       "..       ...            ...           ...          ...    ...          ...   \n",
       "995      996              7          2006         0.99      G            6   \n",
       "996      997              6          2006         0.99  NC-17           12   \n",
       "997      998              9          2006         0.99  NC-17           11   \n",
       "998      999             17          2006         2.99      R            3   \n",
       "999     1000             31          2006         4.99  NC-17            5   \n",
       "\n",
       "    rented_last_month  \n",
       "0               false  \n",
       "1                true  \n",
       "2               false  \n",
       "3                true  \n",
       "4                true  \n",
       "..                ...  \n",
       "995             false  \n",
       "996             false  \n",
       "997              true  \n",
       "998             false  \n",
       "999             false  \n",
       "\n",
       "[1000 rows x 7 columns]"
      ]
     },
     "execution_count": 10,
     "metadata": {},
     "output_type": "execute_result"
    }
   ],
   "source": [
    "df = features.merge(df_all_film_id, on='film_id')\n",
    "df"
   ]
  },
  {
   "cell_type": "markdown",
   "metadata": {},
   "source": [
    "### 3- Analyze extracted features and transform them. You may need to encode some categorical variables, or scale numerical variables"
   ]
  },
  {
   "cell_type": "markdown",
   "metadata": {},
   "source": [
    "#### Lets check null values:"
   ]
  },
  {
   "cell_type": "code",
   "execution_count": 11,
   "metadata": {},
   "outputs": [
    {
     "data": {
      "text/html": [
       "<div>\n",
       "<style scoped>\n",
       "    .dataframe tbody tr th:only-of-type {\n",
       "        vertical-align: middle;\n",
       "    }\n",
       "\n",
       "    .dataframe tbody tr th {\n",
       "        vertical-align: top;\n",
       "    }\n",
       "\n",
       "    .dataframe thead th {\n",
       "        text-align: right;\n",
       "    }\n",
       "</style>\n",
       "<table border=\"1\" class=\"dataframe\">\n",
       "  <thead>\n",
       "    <tr style=\"text-align: right;\">\n",
       "      <th></th>\n",
       "      <th>percentage</th>\n",
       "    </tr>\n",
       "  </thead>\n",
       "  <tbody>\n",
       "    <tr>\n",
       "      <th>film_id</th>\n",
       "      <td>0.0</td>\n",
       "    </tr>\n",
       "    <tr>\n",
       "      <th>count_rentals</th>\n",
       "      <td>0.0</td>\n",
       "    </tr>\n",
       "    <tr>\n",
       "      <th>release_year</th>\n",
       "      <td>0.0</td>\n",
       "    </tr>\n",
       "    <tr>\n",
       "      <th>rental_rate</th>\n",
       "      <td>0.0</td>\n",
       "    </tr>\n",
       "    <tr>\n",
       "      <th>rating</th>\n",
       "      <td>0.0</td>\n",
       "    </tr>\n",
       "    <tr>\n",
       "      <th>category_id</th>\n",
       "      <td>0.0</td>\n",
       "    </tr>\n",
       "    <tr>\n",
       "      <th>rented_last_month</th>\n",
       "      <td>0.0</td>\n",
       "    </tr>\n",
       "  </tbody>\n",
       "</table>\n",
       "</div>"
      ],
      "text/plain": [
       "                   percentage\n",
       "film_id                   0.0\n",
       "count_rentals             0.0\n",
       "release_year              0.0\n",
       "rental_rate               0.0\n",
       "rating                    0.0\n",
       "category_id               0.0\n",
       "rented_last_month         0.0"
      ]
     },
     "execution_count": 11,
     "metadata": {},
     "output_type": "execute_result"
    }
   ],
   "source": [
    "nulls = pd.DataFrame(df.isna().sum()*100/len(df), columns=['percentage'])\n",
    "nulls.sort_values('percentage', ascending = False)"
   ]
  },
  {
   "cell_type": "markdown",
   "metadata": {},
   "source": [
    "#### Check data types and adjust them if they are not appropiate.\n",
    "    - release_year: num to cat\n",
    "    - category_id: num to cat"
   ]
  },
  {
   "cell_type": "code",
   "execution_count": 12,
   "metadata": {},
   "outputs": [
    {
     "data": {
      "text/plain": [
       "film_id                int64\n",
       "count_rentals          int64\n",
       "release_year           int64\n",
       "rental_rate          float64\n",
       "rating                object\n",
       "category_id            int64\n",
       "rented_last_month     object\n",
       "dtype: object"
      ]
     },
     "execution_count": 12,
     "metadata": {},
     "output_type": "execute_result"
    }
   ],
   "source": [
    "df.dtypes"
   ]
  },
  {
   "cell_type": "code",
   "execution_count": 13,
   "metadata": {},
   "outputs": [
    {
     "data": {
      "text/plain": [
       "film_id                int64\n",
       "count_rentals          int64\n",
       "release_year          object\n",
       "rental_rate          float64\n",
       "rating                object\n",
       "category_id           object\n",
       "rented_last_month     object\n",
       "dtype: object"
      ]
     },
     "execution_count": 13,
     "metadata": {},
     "output_type": "execute_result"
    }
   ],
   "source": [
    "df.category_id = df.category_id.astype(object)\n",
    "df.release_year = df.release_year.astype(object)\n",
    "df.dtypes"
   ]
  },
  {
   "cell_type": "markdown",
   "metadata": {},
   "source": [
    "#### Checking data imbalances for categoricals"
   ]
  },
  {
   "cell_type": "code",
   "execution_count": 14,
   "metadata": {},
   "outputs": [
    {
     "data": {
      "text/plain": [
       "PG-13    223\n",
       "NC-17    210\n",
       "R        195\n",
       "PG       194\n",
       "G        178\n",
       "Name: rating, dtype: int64"
      ]
     },
     "execution_count": 14,
     "metadata": {},
     "output_type": "execute_result"
    }
   ],
   "source": [
    "df['rating'].value_counts()\n",
    "## quite evenly spread, no need for bucketing or anything else to clean data"
   ]
  },
  {
   "cell_type": "code",
   "execution_count": 15,
   "metadata": {},
   "outputs": [
    {
     "data": {
      "text/plain": [
       "15    74\n",
       "9     73\n",
       "8     69\n",
       "6     68\n",
       "2     66\n",
       "1     64\n",
       "13    63\n",
       "7     62\n",
       "10    61\n",
       "14    61\n",
       "3     60\n",
       "5     58\n",
       "4     57\n",
       "16    57\n",
       "11    56\n",
       "12    51\n",
       "Name: category_id, dtype: int64"
      ]
     },
     "execution_count": 15,
     "metadata": {},
     "output_type": "execute_result"
    }
   ],
   "source": [
    "df['category_id'].value_counts()\n",
    "## quite evenly spread, no need for bucketing or anything else to clean data"
   ]
  },
  {
   "cell_type": "code",
   "execution_count": 16,
   "metadata": {},
   "outputs": [
    {
     "data": {
      "text/plain": [
       "false    832\n",
       "true     168\n",
       "Name: rented_last_month, dtype: int64"
      ]
     },
     "execution_count": 16,
     "metadata": {},
     "output_type": "execute_result"
    }
   ],
   "source": [
    "df['rented_last_month'].value_counts()\n",
    "## Target variable data is very imbalanced"
   ]
  },
  {
   "cell_type": "markdown",
   "metadata": {},
   "source": [
    "#### Plotting numerical columns"
   ]
  },
  {
   "cell_type": "code",
   "execution_count": 17,
   "metadata": {},
   "outputs": [
    {
     "name": "stderr",
     "output_type": "stream",
     "text": [
      "/usr/local/lib/python3.9/site-packages/seaborn/distributions.py:2557: FutureWarning: `distplot` is a deprecated function and will be removed in a future version. Please adapt your code to use either `displot` (a figure-level function with similar flexibility) or `histplot` (an axes-level function for histograms).\n",
      "  warnings.warn(msg, FutureWarning)\n"
     ]
    },
    {
     "data": {
      "image/png": "[encoded data removed]",
      "text/plain": [
       "<Figure size 432x288 with 1 Axes>"
      ]
     },
     "metadata": {
      "needs_background": "light"
     },
     "output_type": "display_data"
    },
    {
     "name": "stderr",
     "output_type": "stream",
     "text": [
      "/usr/local/lib/python3.9/site-packages/seaborn/distributions.py:2557: FutureWarning: `distplot` is a deprecated function and will be removed in a future version. Please adapt your code to use either `displot` (a figure-level function with similar flexibility) or `histplot` (an axes-level function for histograms).\n",
      "  warnings.warn(msg, FutureWarning)\n"
     ]
    },
    {
     "data": {
      "image/png": "[encoded data removed]",
      "text/plain": [
       "<Figure size 432x288 with 1 Axes>"
      ]
     },
     "metadata": {
      "needs_background": "light"
     },
     "output_type": "display_data"
    },
    {
     "name": "stderr",
     "output_type": "stream",
     "text": [
      "/usr/local/lib/python3.9/site-packages/seaborn/distributions.py:2557: FutureWarning: `distplot` is a deprecated function and will be removed in a future version. Please adapt your code to use either `displot` (a figure-level function with similar flexibility) or `histplot` (an axes-level function for histograms).\n",
      "  warnings.warn(msg, FutureWarning)\n"
     ]
    },
    {
     "data": {
      "image/png": "[encoded data removed]",
      "text/plain": [
       "<Figure size 432x288 with 1 Axes>"
      ]
     },
     "metadata": {
      "needs_background": "light"
     },
     "output_type": "display_data"
    }
   ],
   "source": [
    "for col in df.select_dtypes(np.number):\n",
    "    sns.distplot(df[col])\n",
    "    plt.show()"
   ]
  },
  {
   "cell_type": "markdown",
   "metadata": {},
   "source": [
    "#### Setting film_id as index"
   ]
  },
  {
   "cell_type": "code",
   "execution_count": 18,
   "metadata": {},
   "outputs": [],
   "source": [
    "df = df.set_index('film_id')"
   ]
  },
  {
   "cell_type": "markdown",
   "metadata": {},
   "source": [
    "### 5- Create a logistic regression model to predict this variable from the cleaned data"
   ]
  },
  {
   "cell_type": "markdown",
   "metadata": {},
   "source": [
    "#### x-Y split"
   ]
  },
  {
   "cell_type": "code",
   "execution_count": 19,
   "metadata": {},
   "outputs": [],
   "source": [
    "y = df['rented_last_month']\n",
    "X = df.drop('rented_last_month', axis=1)"
   ]
  },
  {
   "cell_type": "markdown",
   "metadata": {},
   "source": [
    "#### encoding categoricals"
   ]
  },
  {
   "cell_type": "code",
   "execution_count": 20,
   "metadata": {},
   "outputs": [
    {
     "data": {
      "text/plain": [
       "count_rentals          int64\n",
       "release_year          object\n",
       "rental_rate          float64\n",
       "rating                object\n",
       "category_id           object\n",
       "rented_last_month     object\n",
       "dtype: object"
      ]
     },
     "execution_count": 20,
     "metadata": {},
     "output_type": "execute_result"
    }
   ],
   "source": [
    "df.dtypes"
   ]
  },
  {
   "cell_type": "code",
   "execution_count": 21,
   "metadata": {},
   "outputs": [
    {
     "data": {
      "text/html": [
       "<div>\n",
       "<style scoped>\n",
       "    .dataframe tbody tr th:only-of-type {\n",
       "        vertical-align: middle;\n",
       "    }\n",
       "\n",
       "    .dataframe tbody tr th {\n",
       "        vertical-align: top;\n",
       "    }\n",
       "\n",
       "    .dataframe thead th {\n",
       "        text-align: right;\n",
       "    }\n",
       "</style>\n",
       "<table border=\"1\" class=\"dataframe\">\n",
       "  <thead>\n",
       "    <tr style=\"text-align: right;\">\n",
       "      <th></th>\n",
       "      <th>count_rentals</th>\n",
       "      <th>rental_rate</th>\n",
       "      <th>release_year_2006</th>\n",
       "      <th>rating_G</th>\n",
       "      <th>rating_NC-17</th>\n",
       "      <th>rating_PG</th>\n",
       "      <th>rating_PG-13</th>\n",
       "      <th>rating_R</th>\n",
       "      <th>category_id_1</th>\n",
       "      <th>category_id_2</th>\n",
       "      <th>...</th>\n",
       "      <th>category_id_7</th>\n",
       "      <th>category_id_8</th>\n",
       "      <th>category_id_9</th>\n",
       "      <th>category_id_10</th>\n",
       "      <th>category_id_11</th>\n",
       "      <th>category_id_12</th>\n",
       "      <th>category_id_13</th>\n",
       "      <th>category_id_14</th>\n",
       "      <th>category_id_15</th>\n",
       "      <th>category_id_16</th>\n",
       "    </tr>\n",
       "    <tr>\n",
       "      <th>film_id</th>\n",
       "      <th></th>\n",
       "      <th></th>\n",
       "      <th></th>\n",
       "      <th></th>\n",
       "      <th></th>\n",
       "      <th></th>\n",
       "      <th></th>\n",
       "      <th></th>\n",
       "      <th></th>\n",
       "      <th></th>\n",
       "      <th></th>\n",
       "      <th></th>\n",
       "      <th></th>\n",
       "      <th></th>\n",
       "      <th></th>\n",
       "      <th></th>\n",
       "      <th></th>\n",
       "      <th></th>\n",
       "      <th></th>\n",
       "      <th></th>\n",
       "      <th></th>\n",
       "    </tr>\n",
       "  </thead>\n",
       "  <tbody>\n",
       "    <tr>\n",
       "      <th>1</th>\n",
       "      <td>23</td>\n",
       "      <td>0.99</td>\n",
       "      <td>1</td>\n",
       "      <td>0</td>\n",
       "      <td>0</td>\n",
       "      <td>1</td>\n",
       "      <td>0</td>\n",
       "      <td>0</td>\n",
       "      <td>0</td>\n",
       "      <td>0</td>\n",
       "      <td>...</td>\n",
       "      <td>0</td>\n",
       "      <td>0</td>\n",
       "      <td>0</td>\n",
       "      <td>0</td>\n",
       "      <td>0</td>\n",
       "      <td>0</td>\n",
       "      <td>0</td>\n",
       "      <td>0</td>\n",
       "      <td>0</td>\n",
       "      <td>0</td>\n",
       "    </tr>\n",
       "    <tr>\n",
       "      <th>2</th>\n",
       "      <td>7</td>\n",
       "      <td>4.99</td>\n",
       "      <td>1</td>\n",
       "      <td>1</td>\n",
       "      <td>0</td>\n",
       "      <td>0</td>\n",
       "      <td>0</td>\n",
       "      <td>0</td>\n",
       "      <td>0</td>\n",
       "      <td>0</td>\n",
       "      <td>...</td>\n",
       "      <td>0</td>\n",
       "      <td>0</td>\n",
       "      <td>0</td>\n",
       "      <td>0</td>\n",
       "      <td>1</td>\n",
       "      <td>0</td>\n",
       "      <td>0</td>\n",
       "      <td>0</td>\n",
       "      <td>0</td>\n",
       "      <td>0</td>\n",
       "    </tr>\n",
       "    <tr>\n",
       "      <th>3</th>\n",
       "      <td>12</td>\n",
       "      <td>2.99</td>\n",
       "      <td>1</td>\n",
       "      <td>0</td>\n",
       "      <td>1</td>\n",
       "      <td>0</td>\n",
       "      <td>0</td>\n",
       "      <td>0</td>\n",
       "      <td>0</td>\n",
       "      <td>0</td>\n",
       "      <td>...</td>\n",
       "      <td>0</td>\n",
       "      <td>0</td>\n",
       "      <td>0</td>\n",
       "      <td>0</td>\n",
       "      <td>0</td>\n",
       "      <td>0</td>\n",
       "      <td>0</td>\n",
       "      <td>0</td>\n",
       "      <td>0</td>\n",
       "      <td>0</td>\n",
       "    </tr>\n",
       "    <tr>\n",
       "      <th>4</th>\n",
       "      <td>23</td>\n",
       "      <td>2.99</td>\n",
       "      <td>1</td>\n",
       "      <td>1</td>\n",
       "      <td>0</td>\n",
       "      <td>0</td>\n",
       "      <td>0</td>\n",
       "      <td>0</td>\n",
       "      <td>0</td>\n",
       "      <td>0</td>\n",
       "      <td>...</td>\n",
       "      <td>0</td>\n",
       "      <td>0</td>\n",
       "      <td>0</td>\n",
       "      <td>0</td>\n",
       "      <td>1</td>\n",
       "      <td>0</td>\n",
       "      <td>0</td>\n",
       "      <td>0</td>\n",
       "      <td>0</td>\n",
       "      <td>0</td>\n",
       "    </tr>\n",
       "    <tr>\n",
       "      <th>5</th>\n",
       "      <td>12</td>\n",
       "      <td>2.99</td>\n",
       "      <td>1</td>\n",
       "      <td>1</td>\n",
       "      <td>0</td>\n",
       "      <td>0</td>\n",
       "      <td>0</td>\n",
       "      <td>0</td>\n",
       "      <td>0</td>\n",
       "      <td>0</td>\n",
       "      <td>...</td>\n",
       "      <td>0</td>\n",
       "      <td>1</td>\n",
       "      <td>0</td>\n",
       "      <td>0</td>\n",
       "      <td>0</td>\n",
       "      <td>0</td>\n",
       "      <td>0</td>\n",
       "      <td>0</td>\n",
       "      <td>0</td>\n",
       "      <td>0</td>\n",
       "    </tr>\n",
       "    <tr>\n",
       "      <th>...</th>\n",
       "      <td>...</td>\n",
       "      <td>...</td>\n",
       "      <td>...</td>\n",
       "      <td>...</td>\n",
       "      <td>...</td>\n",
       "      <td>...</td>\n",
       "      <td>...</td>\n",
       "      <td>...</td>\n",
       "      <td>...</td>\n",
       "      <td>...</td>\n",
       "      <td>...</td>\n",
       "      <td>...</td>\n",
       "      <td>...</td>\n",
       "      <td>...</td>\n",
       "      <td>...</td>\n",
       "      <td>...</td>\n",
       "      <td>...</td>\n",
       "      <td>...</td>\n",
       "      <td>...</td>\n",
       "      <td>...</td>\n",
       "      <td>...</td>\n",
       "    </tr>\n",
       "    <tr>\n",
       "      <th>996</th>\n",
       "      <td>7</td>\n",
       "      <td>0.99</td>\n",
       "      <td>1</td>\n",
       "      <td>1</td>\n",
       "      <td>0</td>\n",
       "      <td>0</td>\n",
       "      <td>0</td>\n",
       "      <td>0</td>\n",
       "      <td>0</td>\n",
       "      <td>0</td>\n",
       "      <td>...</td>\n",
       "      <td>0</td>\n",
       "      <td>0</td>\n",
       "      <td>0</td>\n",
       "      <td>0</td>\n",
       "      <td>0</td>\n",
       "      <td>0</td>\n",
       "      <td>0</td>\n",
       "      <td>0</td>\n",
       "      <td>0</td>\n",
       "      <td>0</td>\n",
       "    </tr>\n",
       "    <tr>\n",
       "      <th>997</th>\n",
       "      <td>6</td>\n",
       "      <td>0.99</td>\n",
       "      <td>1</td>\n",
       "      <td>0</td>\n",
       "      <td>1</td>\n",
       "      <td>0</td>\n",
       "      <td>0</td>\n",
       "      <td>0</td>\n",
       "      <td>0</td>\n",
       "      <td>0</td>\n",
       "      <td>...</td>\n",
       "      <td>0</td>\n",
       "      <td>0</td>\n",
       "      <td>0</td>\n",
       "      <td>0</td>\n",
       "      <td>0</td>\n",
       "      <td>1</td>\n",
       "      <td>0</td>\n",
       "      <td>0</td>\n",
       "      <td>0</td>\n",
       "      <td>0</td>\n",
       "    </tr>\n",
       "    <tr>\n",
       "      <th>998</th>\n",
       "      <td>9</td>\n",
       "      <td>0.99</td>\n",
       "      <td>1</td>\n",
       "      <td>0</td>\n",
       "      <td>1</td>\n",
       "      <td>0</td>\n",
       "      <td>0</td>\n",
       "      <td>0</td>\n",
       "      <td>0</td>\n",
       "      <td>0</td>\n",
       "      <td>...</td>\n",
       "      <td>0</td>\n",
       "      <td>0</td>\n",
       "      <td>0</td>\n",
       "      <td>0</td>\n",
       "      <td>1</td>\n",
       "      <td>0</td>\n",
       "      <td>0</td>\n",
       "      <td>0</td>\n",
       "      <td>0</td>\n",
       "      <td>0</td>\n",
       "    </tr>\n",
       "    <tr>\n",
       "      <th>999</th>\n",
       "      <td>17</td>\n",
       "      <td>2.99</td>\n",
       "      <td>1</td>\n",
       "      <td>0</td>\n",
       "      <td>0</td>\n",
       "      <td>0</td>\n",
       "      <td>0</td>\n",
       "      <td>1</td>\n",
       "      <td>0</td>\n",
       "      <td>0</td>\n",
       "      <td>...</td>\n",
       "      <td>0</td>\n",
       "      <td>0</td>\n",
       "      <td>0</td>\n",
       "      <td>0</td>\n",
       "      <td>0</td>\n",
       "      <td>0</td>\n",
       "      <td>0</td>\n",
       "      <td>0</td>\n",
       "      <td>0</td>\n",
       "      <td>0</td>\n",
       "    </tr>\n",
       "    <tr>\n",
       "      <th>1000</th>\n",
       "      <td>31</td>\n",
       "      <td>4.99</td>\n",
       "      <td>1</td>\n",
       "      <td>0</td>\n",
       "      <td>1</td>\n",
       "      <td>0</td>\n",
       "      <td>0</td>\n",
       "      <td>0</td>\n",
       "      <td>0</td>\n",
       "      <td>0</td>\n",
       "      <td>...</td>\n",
       "      <td>0</td>\n",
       "      <td>0</td>\n",
       "      <td>0</td>\n",
       "      <td>0</td>\n",
       "      <td>0</td>\n",
       "      <td>0</td>\n",
       "      <td>0</td>\n",
       "      <td>0</td>\n",
       "      <td>0</td>\n",
       "      <td>0</td>\n",
       "    </tr>\n",
       "  </tbody>\n",
       "</table>\n",
       "<p>1000 rows × 24 columns</p>\n",
       "</div>"
      ],
      "text/plain": [
       "         count_rentals  rental_rate  release_year_2006  rating_G  \\\n",
       "film_id                                                            \n",
       "1                   23         0.99                  1         0   \n",
       "2                    7         4.99                  1         1   \n",
       "3                   12         2.99                  1         0   \n",
       "4                   23         2.99                  1         1   \n",
       "5                   12         2.99                  1         1   \n",
       "...                ...          ...                ...       ...   \n",
       "996                  7         0.99                  1         1   \n",
       "997                  6         0.99                  1         0   \n",
       "998                  9         0.99                  1         0   \n",
       "999                 17         2.99                  1         0   \n",
       "1000                31         4.99                  1         0   \n",
       "\n",
       "         rating_NC-17  rating_PG  rating_PG-13  rating_R  category_id_1  \\\n",
       "film_id                                                                   \n",
       "1                   0          1             0         0              0   \n",
       "2                   0          0             0         0              0   \n",
       "3                   1          0             0         0              0   \n",
       "4                   0          0             0         0              0   \n",
       "5                   0          0             0         0              0   \n",
       "...               ...        ...           ...       ...            ...   \n",
       "996                 0          0             0         0              0   \n",
       "997                 1          0             0         0              0   \n",
       "998                 1          0             0         0              0   \n",
       "999                 0          0             0         1              0   \n",
       "1000                1          0             0         0              0   \n",
       "\n",
       "         category_id_2  ...  category_id_7  category_id_8  category_id_9  \\\n",
       "film_id                 ...                                                \n",
       "1                    0  ...              0              0              0   \n",
       "2                    0  ...              0              0              0   \n",
       "3                    0  ...              0              0              0   \n",
       "4                    0  ...              0              0              0   \n",
       "5                    0  ...              0              1              0   \n",
       "...                ...  ...            ...            ...            ...   \n",
       "996                  0  ...              0              0              0   \n",
       "997                  0  ...              0              0              0   \n",
       "998                  0  ...              0              0              0   \n",
       "999                  0  ...              0              0              0   \n",
       "1000                 0  ...              0              0              0   \n",
       "\n",
       "         category_id_10  category_id_11  category_id_12  category_id_13  \\\n",
       "film_id                                                                   \n",
       "1                     0               0               0               0   \n",
       "2                     0               1               0               0   \n",
       "3                     0               0               0               0   \n",
       "4                     0               1               0               0   \n",
       "5                     0               0               0               0   \n",
       "...                 ...             ...             ...             ...   \n",
       "996                   0               0               0               0   \n",
       "997                   0               0               1               0   \n",
       "998                   0               1               0               0   \n",
       "999                   0               0               0               0   \n",
       "1000                  0               0               0               0   \n",
       "\n",
       "         category_id_14  category_id_15  category_id_16  \n",
       "film_id                                                  \n",
       "1                     0               0               0  \n",
       "2                     0               0               0  \n",
       "3                     0               0               0  \n",
       "4                     0               0               0  \n",
       "5                     0               0               0  \n",
       "...                 ...             ...             ...  \n",
       "996                   0               0               0  \n",
       "997                   0               0               0  \n",
       "998                   0               0               0  \n",
       "999                   0               0               0  \n",
       "1000                  0               0               0  \n",
       "\n",
       "[1000 rows x 24 columns]"
      ]
     },
     "execution_count": 21,
     "metadata": {},
     "output_type": "execute_result"
    }
   ],
   "source": [
    "X = pd.get_dummies(X, columns=['release_year', 'rating', 'category_id'])\n",
    "X"
   ]
  },
  {
   "cell_type": "code",
   "execution_count": 22,
   "metadata": {},
   "outputs": [],
   "source": [
    "X_train, X_test, y_train, y_test = train_test_split(X, y, test_size=0.2, random_state=42)"
   ]
  },
  {
   "cell_type": "code",
   "execution_count": 23,
   "metadata": {},
   "outputs": [
    {
     "data": {
      "text/plain": [
       "LogisticRegression(max_iter=1000, random_state=42)"
      ]
     },
     "execution_count": 23,
     "metadata": {},
     "output_type": "execute_result"
    }
   ],
   "source": [
    "classification = LogisticRegression(random_state=42, max_iter=1000)\n",
    "\n",
    "classification.fit(X_train, y_train)"
   ]
  },
  {
   "cell_type": "markdown",
   "metadata": {},
   "source": [
    "### 6- Evaluate the results (calculate the score of the model)"
   ]
  },
  {
   "cell_type": "code",
   "execution_count": 24,
   "metadata": {},
   "outputs": [
    {
     "data": {
      "text/plain": [
       "0.88"
      ]
     },
     "execution_count": 24,
     "metadata": {},
     "output_type": "execute_result"
    }
   ],
   "source": [
    "classification.score(X_test, y_test)"
   ]
  },
  {
   "cell_type": "code",
   "execution_count": 25,
   "metadata": {},
   "outputs": [
    {
     "data": {
      "text/plain": [
       "array(['false', 'false', 'false', 'false', 'false', 'false', 'false',\n",
       "       'false', 'false', 'false', 'false', 'false', 'false', 'false',\n",
       "       'false', 'false', 'false', 'false', 'false', 'false', 'false',\n",
       "       'false', 'false', 'false', 'false', 'false', 'false', 'false',\n",
       "       'false', 'false', 'false', 'false', 'false', 'false', 'false',\n",
       "       'false', 'false', 'false', 'false', 'false', 'false', 'false',\n",
       "       'false', 'false', 'false', 'false', 'false', 'false', 'false',\n",
       "       'false', 'false', 'false', 'false', 'false', 'false', 'false',\n",
       "       'false', 'false', 'false', 'false', 'false', 'false', 'false',\n",
       "       'false', 'false', 'false', 'false', 'false', 'false', 'false',\n",
       "       'false', 'false', 'false', 'false', 'false', 'false', 'false',\n",
       "       'false', 'false', 'false', 'false', 'false', 'false', 'false',\n",
       "       'false', 'false', 'false', 'false', 'false', 'false', 'false',\n",
       "       'false', 'false', 'false', 'false', 'false', 'false', 'false',\n",
       "       'false', 'false', 'false', 'false', 'false', 'false', 'false',\n",
       "       'false', 'false', 'false', 'false', 'false', 'false', 'false',\n",
       "       'false', 'false', 'false', 'false', 'false', 'false', 'false',\n",
       "       'false', 'false', 'false', 'false', 'false', 'false', 'false',\n",
       "       'false', 'false', 'false', 'false', 'false', 'false', 'false',\n",
       "       'false', 'false', 'false', 'false', 'false', 'false', 'false',\n",
       "       'false', 'false', 'false', 'false', 'false', 'false', 'false',\n",
       "       'false', 'false', 'false', 'false', 'false', 'false', 'false',\n",
       "       'false', 'false', 'false', 'false', 'false', 'false', 'false',\n",
       "       'false', 'false', 'false', 'false', 'false', 'false', 'false',\n",
       "       'false', 'false', 'false', 'false', 'false', 'false', 'false',\n",
       "       'false', 'false', 'false', 'false', 'false', 'false', 'false',\n",
       "       'false', 'false', 'false', 'false', 'false', 'false', 'false',\n",
       "       'false', 'false', 'false', 'false', 'false', 'false', 'false',\n",
       "       'false', 'false', 'false', 'false'], dtype=object)"
      ]
     },
     "execution_count": 25,
     "metadata": {},
     "output_type": "execute_result"
    }
   ],
   "source": [
    "predictions = classification.predict(X_test)\n",
    "predictions"
   ]
  },
  {
   "cell_type": "code",
   "execution_count": 26,
   "metadata": {},
   "outputs": [
    {
     "data": {
      "text/plain": [
       "array([[176,   0],\n",
       "       [ 24,   0]])"
      ]
     },
     "execution_count": 26,
     "metadata": {},
     "output_type": "execute_result"
    }
   ],
   "source": [
    "confusion_matrix(y_test, predictions)"
   ]
  },
  {
   "cell_type": "code",
   "execution_count": 27,
   "metadata": {},
   "outputs": [],
   "source": [
    "cf_matrix = confusion_matrix(y_test, predictions, normalize='all')"
   ]
  },
  {
   "cell_type": "code",
   "execution_count": 28,
   "metadata": {},
   "outputs": [
    {
     "data": {
      "text/plain": [
       "<AxesSubplot:>"
      ]
     },
     "execution_count": 28,
     "metadata": {},
     "output_type": "execute_result"
    },
    {
     "data": {
      "image/png": "[encoded data removed]",
      "text/plain": [
       "<Figure size 432x288 with 2 Axes>"
      ]
     },
     "metadata": {
      "needs_background": "light"
     },
     "output_type": "display_data"
    }
   ],
   "source": [
    "group_names = ['True true', 'False true', 'False false', 'True False']\n",
    "group_counts = [\"{0:0.0f}\".format(value) for value in cf_matrix.flatten()]\n",
    "group_percentages = [\"{0:.2%}\".format(value) for value in cf_matrix.flatten()/np.sum(cf_matrix)]\n",
    "labels = [f\"{v1}\\n{v2}\\n{v3}\" for v1, v2, v3 in zip(group_names,group_counts,group_percentages)]\n",
    "labels = np.asarray(labels).reshape(2,2)\n",
    "sns.heatmap(cf_matrix, annot=labels, fmt='', cmap='Blues')"
   ]
  },
  {
   "cell_type": "markdown",
   "metadata": {},
   "source": [
    "#### Balancing target variable"
   ]
  },
  {
   "cell_type": "code",
   "execution_count": 29,
   "metadata": {},
   "outputs": [
    {
     "data": {
      "text/plain": [
       "false    832\n",
       "true     832\n",
       "Name: rented_last_month, dtype: int64"
      ]
     },
     "execution_count": 29,
     "metadata": {},
     "output_type": "execute_result"
    }
   ],
   "source": [
    "from imblearn.over_sampling import SMOTE\n",
    "\n",
    "smote = SMOTE()\n",
    "\n",
    "X, y = smote.fit_resample(X, y)\n",
    "y.value_counts()"
   ]
  },
  {
   "cell_type": "code",
   "execution_count": 30,
   "metadata": {},
   "outputs": [],
   "source": [
    "X_train, X_test, y_train, y_test = train_test_split(X, y, test_size=0.2, random_state=42)"
   ]
  },
  {
   "cell_type": "code",
   "execution_count": 31,
   "metadata": {},
   "outputs": [
    {
     "data": {
      "text/plain": [
       "LogisticRegression(max_iter=1000, random_state=42)"
      ]
     },
     "execution_count": 31,
     "metadata": {},
     "output_type": "execute_result"
    }
   ],
   "source": [
    "classification = LogisticRegression(random_state=42, max_iter=1000)\n",
    "\n",
    "classification.fit(X_train, y_train)"
   ]
  },
  {
   "cell_type": "code",
   "execution_count": 32,
   "metadata": {},
   "outputs": [
    {
     "data": {
      "text/plain": [
       "0.9009009009009009"
      ]
     },
     "execution_count": 32,
     "metadata": {},
     "output_type": "execute_result"
    }
   ],
   "source": [
    "classification.score(X_test, y_test)"
   ]
  },
  {
   "cell_type": "code",
   "execution_count": 33,
   "metadata": {},
   "outputs": [
    {
     "data": {
      "text/plain": [
       "array(['true', 'false', 'false', 'true', 'false', 'false', 'true', 'true',\n",
       "       'true', 'false', 'true', 'false', 'false', 'false', 'true', 'true',\n",
       "       'false', 'false', 'false', 'true', 'false', 'false', 'true',\n",
       "       'false', 'true', 'true', 'false', 'false', 'false', 'true',\n",
       "       'false', 'false', 'true', 'false', 'true', 'false', 'true',\n",
       "       'false', 'true', 'true', 'false', 'false', 'false', 'true',\n",
       "       'false', 'false', 'false', 'false', 'false', 'true', 'false',\n",
       "       'true', 'false', 'true', 'true', 'false', 'false', 'false',\n",
       "       'false', 'true', 'false', 'false', 'true', 'false', 'false',\n",
       "       'false', 'false', 'false', 'false', 'true', 'true', 'true',\n",
       "       'false', 'false', 'false', 'true', 'false', 'false', 'true',\n",
       "       'false', 'false', 'false', 'false', 'true', 'true', 'false',\n",
       "       'false', 'false', 'true', 'false', 'false', 'true', 'true', 'true',\n",
       "       'false', 'true', 'false', 'false', 'false', 'false', 'false',\n",
       "       'false', 'false', 'false', 'true', 'true', 'true', 'false', 'true',\n",
       "       'true', 'true', 'false', 'true', 'true', 'false', 'true', 'false',\n",
       "       'true', 'false', 'false', 'false', 'false', 'true', 'false',\n",
       "       'true', 'true', 'false', 'false', 'true', 'false', 'false', 'true',\n",
       "       'true', 'false', 'false', 'false', 'false', 'false', 'true',\n",
       "       'false', 'false', 'true', 'false', 'false', 'true', 'false',\n",
       "       'false', 'true', 'false', 'false', 'false', 'false', 'false',\n",
       "       'false', 'false', 'false', 'true', 'false', 'false', 'false',\n",
       "       'true', 'false', 'false', 'false', 'true', 'false', 'false',\n",
       "       'false', 'false', 'false', 'false', 'false', 'false', 'false',\n",
       "       'true', 'true', 'true', 'false', 'true', 'false', 'true', 'false',\n",
       "       'true', 'true', 'false', 'true', 'true', 'false', 'false', 'true',\n",
       "       'false', 'false', 'true', 'false', 'true', 'true', 'false',\n",
       "       'false', 'false', 'false', 'false', 'true', 'false', 'true',\n",
       "       'false', 'false', 'true', 'false', 'false', 'false', 'false',\n",
       "       'true', 'false', 'true', 'true', 'false', 'true', 'false', 'true',\n",
       "       'true', 'false', 'true', 'false', 'false', 'true', 'false',\n",
       "       'false', 'true', 'true', 'true', 'true', 'false', 'false', 'false',\n",
       "       'false', 'true', 'false', 'true', 'false', 'false', 'false',\n",
       "       'true', 'false', 'true', 'false', 'false', 'false', 'true',\n",
       "       'false', 'false', 'false', 'true', 'false', 'true', 'false',\n",
       "       'true', 'false', 'false', 'true', 'false', 'true', 'false', 'true',\n",
       "       'false', 'false', 'false', 'false', 'false', 'false', 'false',\n",
       "       'true', 'true', 'false', 'true', 'false', 'true', 'false', 'false',\n",
       "       'false', 'false', 'false', 'true', 'false', 'false', 'true',\n",
       "       'true', 'false', 'true', 'false', 'false', 'false', 'true',\n",
       "       'false', 'true', 'false', 'true', 'true', 'true', 'false', 'true',\n",
       "       'false', 'false', 'true', 'false', 'false', 'false', 'false',\n",
       "       'false', 'true', 'false', 'false', 'false', 'true', 'false',\n",
       "       'false', 'true', 'false', 'false', 'false', 'false', 'false',\n",
       "       'true', 'true', 'false', 'false', 'false', 'false', 'false',\n",
       "       'true', 'true', 'false', 'false', 'false'], dtype=object)"
      ]
     },
     "execution_count": 33,
     "metadata": {},
     "output_type": "execute_result"
    }
   ],
   "source": [
    "predictions = classification.predict(X_test)\n",
    "predictions"
   ]
  },
  {
   "cell_type": "code",
   "execution_count": 38,
   "metadata": {},
   "outputs": [],
   "source": [
    "confusion_matrix(y_test, predictions)\n",
    "cf_matrix = confusion_matrix(y_test, predictions, normalize='all')"
   ]
  },
  {
   "cell_type": "code",
   "execution_count": 39,
   "metadata": {},
   "outputs": [
    {
     "data": {
      "text/plain": [
       "<AxesSubplot:>"
      ]
     },
     "execution_count": 39,
     "metadata": {},
     "output_type": "execute_result"
    },
    {
     "data": {
      "image/png": "[encoded data removed]",
      "text/plain": [
       "<Figure size 432x288 with 2 Axes>"
      ]
     },
     "metadata": {
      "needs_background": "light"
     },
     "output_type": "display_data"
    }
   ],
   "source": [
    "group_names = ['True true', 'False true', 'False false', 'True False']\n",
    "group_counts = [\"{0:0.0f}\".format(value) for value in cf_matrix.flatten()]\n",
    "group_percentages = [\"{0:.2%}\".format(value) for value in cf_matrix.flatten()/np.sum(cf_matrix)]\n",
    "labels = [f\"{v1}\\n{v2}\\n{v3}\" for v1, v2, v3 in zip(group_names,group_counts,group_percentages)]\n",
    "labels = np.asarray(labels).reshape(2,2)\n",
    "sns.heatmap(cf_matrix, annot=labels, fmt='', cmap='Blues')"
   ]
  },
  {
   "cell_type": "markdown",
   "metadata": {},
   "source": [
    "After balancing the data we are:\n",
    "- Less precise with our predictions of films that were rented  \n",
    "- More precise with our predictions of films that were not rented \n",
    "\n",
    "In general, balancing data has been positive as we have a less biased model"
   ]
  },
  {
   "cell_type": "code",
   "execution_count": null,
   "metadata": {},
   "outputs": [],
   "source": []
  }
 ],
 "metadata": {
  "kernelspec": {
   "display_name": "Python 3",
   "language": "python",
   "name": "python3"
  },
  "language_info": {
   "codemirror_mode": {
    "name": "ipython",
    "version": 3
   },
   "file_extension": ".py",
   "mimetype": "text/x-python",
   "name": "python",
   "nbconvert_exporter": "python",
   "pygments_lexer": "ipython3",
   "version": "3.9.5"
  }
 },
 "nbformat": 4,
 "nbformat_minor": 4
}
