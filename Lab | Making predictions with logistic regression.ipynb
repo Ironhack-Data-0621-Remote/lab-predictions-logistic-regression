{
 "cells": [
  {
   "cell_type": "markdown",
   "metadata": {},
   "source": [
    "# Lab | Making predictions with logistic regression"
   ]
  },
  {
   "cell_type": "code",
   "execution_count": 1,
   "metadata": {},
   "outputs": [
    {
     "name": "stdout",
     "output_type": "stream",
     "text": [
      "········\n"
     ]
    }
   ],
   "source": [
    "import pymysql\n",
    "from sqlalchemy import create_engine\n",
    "import pandas as pd\n",
    "import numpy as np\n",
    "import getpass\n",
    "import matplotlib.pyplot as plt\n",
    "import seaborn as sns\n",
    "from sklearn.model_selection import train_test_split\n",
    "from sklearn.linear_model import LogisticRegression\n",
    "from sklearn.metrics import confusion_matrix\n",
    "password = getpass.getpass()"
   ]
  },
  {
   "cell_type": "markdown",
   "metadata": {},
   "source": [
    "### 1- Create an SQL query or queries to extract the information you think may be relevant for building the prediction model. It should include some film features and some rental features"
   ]
  },
  {
   "cell_type": "code",
   "execution_count": 34,
   "metadata": {},
   "outputs": [
    {
     "data": {
      "text/html": [
       "<div>\n",
       "<style scoped>\n",
       "    .dataframe tbody tr th:only-of-type {\n",
       "        vertical-align: middle;\n",
       "    }\n",
       "\n",
       "    .dataframe tbody tr th {\n",
       "        vertical-align: top;\n",
       "    }\n",
       "\n",
       "    .dataframe thead th {\n",
       "        text-align: right;\n",
       "    }\n",
       "</style>\n",
       "<table border=\"1\" class=\"dataframe\">\n",
       "  <thead>\n",
       "    <tr style=\"text-align: right;\">\n",
       "      <th></th>\n",
       "      <th>film_id</th>\n",
       "      <th>film_title</th>\n",
       "      <th>rental_duration</th>\n",
       "      <th>rental_rate</th>\n",
       "      <th>rental_id</th>\n",
       "      <th>rental_date</th>\n",
       "      <th>return_date</th>\n",
       "    </tr>\n",
       "  </thead>\n",
       "  <tbody>\n",
       "    <tr>\n",
       "      <th>0</th>\n",
       "      <td>1</td>\n",
       "      <td>ACADEMY DINOSAUR</td>\n",
       "      <td>6</td>\n",
       "      <td>0.99</td>\n",
       "      <td>4863</td>\n",
       "      <td>2005-07-08 19:03:15</td>\n",
       "      <td>2005-07-11 21:29:15</td>\n",
       "    </tr>\n",
       "    <tr>\n",
       "      <th>1</th>\n",
       "      <td>1</td>\n",
       "      <td>ACADEMY DINOSAUR</td>\n",
       "      <td>6</td>\n",
       "      <td>0.99</td>\n",
       "      <td>11433</td>\n",
       "      <td>2005-08-02 20:13:10</td>\n",
       "      <td>2005-08-11 21:35:10</td>\n",
       "    </tr>\n",
       "    <tr>\n",
       "      <th>2</th>\n",
       "      <td>1</td>\n",
       "      <td>ACADEMY DINOSAUR</td>\n",
       "      <td>6</td>\n",
       "      <td>0.99</td>\n",
       "      <td>14714</td>\n",
       "      <td>2005-08-21 21:27:43</td>\n",
       "      <td>2005-08-30 22:26:43</td>\n",
       "    </tr>\n",
       "    <tr>\n",
       "      <th>3</th>\n",
       "      <td>1</td>\n",
       "      <td>ACADEMY DINOSAUR</td>\n",
       "      <td>6</td>\n",
       "      <td>0.99</td>\n",
       "      <td>16050</td>\n",
       "      <td>2021-06-25 18:15:37</td>\n",
       "      <td>NaT</td>\n",
       "    </tr>\n",
       "    <tr>\n",
       "      <th>4</th>\n",
       "      <td>2</td>\n",
       "      <td>ACE GOLDFINGER</td>\n",
       "      <td>3</td>\n",
       "      <td>4.99</td>\n",
       "      <td>972</td>\n",
       "      <td>2005-05-30 20:21:07</td>\n",
       "      <td>2005-06-06 00:36:07</td>\n",
       "    </tr>\n",
       "    <tr>\n",
       "      <th>...</th>\n",
       "      <td>...</td>\n",
       "      <td>...</td>\n",
       "      <td>...</td>\n",
       "      <td>...</td>\n",
       "      <td>...</td>\n",
       "      <td>...</td>\n",
       "      <td>...</td>\n",
       "    </tr>\n",
       "    <tr>\n",
       "      <th>3471</th>\n",
       "      <td>999</td>\n",
       "      <td>ZOOLANDER FICTION</td>\n",
       "      <td>5</td>\n",
       "      <td>2.99</td>\n",
       "      <td>12319</td>\n",
       "      <td>2005-08-18 06:26:45</td>\n",
       "      <td>2005-08-23 01:35:45</td>\n",
       "    </tr>\n",
       "    <tr>\n",
       "      <th>3472</th>\n",
       "      <td>1000</td>\n",
       "      <td>ZORRO ARK</td>\n",
       "      <td>3</td>\n",
       "      <td>4.99</td>\n",
       "      <td>1235</td>\n",
       "      <td>2005-06-15 04:31:28</td>\n",
       "      <td>2005-06-22 10:08:28</td>\n",
       "    </tr>\n",
       "    <tr>\n",
       "      <th>3473</th>\n",
       "      <td>1000</td>\n",
       "      <td>ZORRO ARK</td>\n",
       "      <td>3</td>\n",
       "      <td>4.99</td>\n",
       "      <td>5987</td>\n",
       "      <td>2005-07-11 00:55:31</td>\n",
       "      <td>2005-07-16 06:28:31</td>\n",
       "    </tr>\n",
       "    <tr>\n",
       "      <th>3474</th>\n",
       "      <td>1000</td>\n",
       "      <td>ZORRO ARK</td>\n",
       "      <td>3</td>\n",
       "      <td>4.99</td>\n",
       "      <td>8441</td>\n",
       "      <td>2005-07-29 07:33:05</td>\n",
       "      <td>2005-08-04 04:00:05</td>\n",
       "    </tr>\n",
       "    <tr>\n",
       "      <th>3475</th>\n",
       "      <td>1000</td>\n",
       "      <td>ZORRO ARK</td>\n",
       "      <td>3</td>\n",
       "      <td>4.99</td>\n",
       "      <td>15200</td>\n",
       "      <td>2005-08-22 16:22:53</td>\n",
       "      <td>2005-08-24 10:25:53</td>\n",
       "    </tr>\n",
       "  </tbody>\n",
       "</table>\n",
       "<p>3476 rows × 7 columns</p>\n",
       "</div>"
      ],
      "text/plain": [
       "      film_id         film_title  rental_duration  rental_rate  rental_id  \\\n",
       "0           1   ACADEMY DINOSAUR                6         0.99       4863   \n",
       "1           1   ACADEMY DINOSAUR                6         0.99      11433   \n",
       "2           1   ACADEMY DINOSAUR                6         0.99      14714   \n",
       "3           1   ACADEMY DINOSAUR                6         0.99      16050   \n",
       "4           2     ACE GOLDFINGER                3         4.99        972   \n",
       "...       ...                ...              ...          ...        ...   \n",
       "3471      999  ZOOLANDER FICTION                5         2.99      12319   \n",
       "3472     1000          ZORRO ARK                3         4.99       1235   \n",
       "3473     1000          ZORRO ARK                3         4.99       5987   \n",
       "3474     1000          ZORRO ARK                3         4.99       8441   \n",
       "3475     1000          ZORRO ARK                3         4.99      15200   \n",
       "\n",
       "             rental_date         return_date  \n",
       "0    2005-07-08 19:03:15 2005-07-11 21:29:15  \n",
       "1    2005-08-02 20:13:10 2005-08-11 21:35:10  \n",
       "2    2005-08-21 21:27:43 2005-08-30 22:26:43  \n",
       "3    2021-06-25 18:15:37                 NaT  \n",
       "4    2005-05-30 20:21:07 2005-06-06 00:36:07  \n",
       "...                  ...                 ...  \n",
       "3471 2005-08-18 06:26:45 2005-08-23 01:35:45  \n",
       "3472 2005-06-15 04:31:28 2005-06-22 10:08:28  \n",
       "3473 2005-07-11 00:55:31 2005-07-16 06:28:31  \n",
       "3474 2005-07-29 07:33:05 2005-08-04 04:00:05  \n",
       "3475 2005-08-22 16:22:53 2005-08-24 10:25:53  \n",
       "\n",
       "[3476 rows x 7 columns]"
      ]
     },
     "execution_count": 34,
     "metadata": {},
     "output_type": "execute_result"
    }
   ],
   "source": [
    "connection_string = 'mysql+pymysql://root:' + password + '@localhost/sakila'\n",
    "engine = create_engine(connection_string)\n",
    "query = '''\n",
    "        select f.film_id, f.title as film_title, f.rental_duration, f.rental_rate, r.rental_id, r.rental_date, r.return_date\n",
    "        from film f\n",
    "        join inventory i\n",
    "        on f.film_id = i.inventory_id\n",
    "        join rental r\n",
    "        on i.inventory_id = r.inventory_id\n",
    "        \n",
    "        '''\n",
    "\n",
    "# 2- Read the data into a Pandas dataframe\n",
    "\n",
    "data = pd.read_sql_query(query, engine)\n",
    "data"
   ]
  },
  {
   "cell_type": "markdown",
   "metadata": {},
   "source": [
    "###  3- Analyze extracted features and transform them. You may need to encode some categorical variables, or scale numerical variables"
   ]
  },
  {
   "cell_type": "markdown",
   "metadata": {},
   "source": [
    "#### Checking the data"
   ]
  },
  {
   "cell_type": "code",
   "execution_count": 35,
   "metadata": {},
   "outputs": [
    {
     "data": {
      "text/plain": [
       "film_id                     int64\n",
       "film_title                 object\n",
       "rental_duration             int64\n",
       "rental_rate               float64\n",
       "rental_id                   int64\n",
       "rental_date        datetime64[ns]\n",
       "return_date        datetime64[ns]\n",
       "dtype: object"
      ]
     },
     "execution_count": 35,
     "metadata": {},
     "output_type": "execute_result"
    }
   ],
   "source": [
    "data.dtypes"
   ]
  },
  {
   "cell_type": "code",
   "execution_count": 36,
   "metadata": {},
   "outputs": [
    {
     "data": {
      "text/html": [
       "<div>\n",
       "<style scoped>\n",
       "    .dataframe tbody tr th:only-of-type {\n",
       "        vertical-align: middle;\n",
       "    }\n",
       "\n",
       "    .dataframe tbody tr th {\n",
       "        vertical-align: top;\n",
       "    }\n",
       "\n",
       "    .dataframe thead th {\n",
       "        text-align: right;\n",
       "    }\n",
       "</style>\n",
       "<table border=\"1\" class=\"dataframe\">\n",
       "  <thead>\n",
       "    <tr style=\"text-align: right;\">\n",
       "      <th></th>\n",
       "      <th>film_id</th>\n",
       "      <th>rental_duration</th>\n",
       "      <th>rental_rate</th>\n",
       "      <th>rental_id</th>\n",
       "    </tr>\n",
       "  </thead>\n",
       "  <tbody>\n",
       "    <tr>\n",
       "      <th>count</th>\n",
       "      <td>3476.000000</td>\n",
       "      <td>3476.000000</td>\n",
       "      <td>3476.000000</td>\n",
       "      <td>3476.000000</td>\n",
       "    </tr>\n",
       "    <tr>\n",
       "      <th>mean</th>\n",
       "      <td>497.616801</td>\n",
       "      <td>4.997411</td>\n",
       "      <td>2.952601</td>\n",
       "      <td>8076.105006</td>\n",
       "    </tr>\n",
       "    <tr>\n",
       "      <th>std</th>\n",
       "      <td>286.334389</td>\n",
       "      <td>1.417362</td>\n",
       "      <td>1.655785</td>\n",
       "      <td>4638.498521</td>\n",
       "    </tr>\n",
       "    <tr>\n",
       "      <th>min</th>\n",
       "      <td>1.000000</td>\n",
       "      <td>3.000000</td>\n",
       "      <td>0.990000</td>\n",
       "      <td>1.000000</td>\n",
       "    </tr>\n",
       "    <tr>\n",
       "      <th>25%</th>\n",
       "      <td>246.000000</td>\n",
       "      <td>4.000000</td>\n",
       "      <td>0.990000</td>\n",
       "      <td>4119.500000</td>\n",
       "    </tr>\n",
       "    <tr>\n",
       "      <th>50%</th>\n",
       "      <td>495.000000</td>\n",
       "      <td>5.000000</td>\n",
       "      <td>2.990000</td>\n",
       "      <td>8080.000000</td>\n",
       "    </tr>\n",
       "    <tr>\n",
       "      <th>75%</th>\n",
       "      <td>743.000000</td>\n",
       "      <td>6.000000</td>\n",
       "      <td>4.990000</td>\n",
       "      <td>12078.250000</td>\n",
       "    </tr>\n",
       "    <tr>\n",
       "      <th>max</th>\n",
       "      <td>1000.000000</td>\n",
       "      <td>7.000000</td>\n",
       "      <td>4.990000</td>\n",
       "      <td>16050.000000</td>\n",
       "    </tr>\n",
       "  </tbody>\n",
       "</table>\n",
       "</div>"
      ],
      "text/plain": [
       "           film_id  rental_duration  rental_rate     rental_id\n",
       "count  3476.000000      3476.000000  3476.000000   3476.000000\n",
       "mean    497.616801         4.997411     2.952601   8076.105006\n",
       "std     286.334389         1.417362     1.655785   4638.498521\n",
       "min       1.000000         3.000000     0.990000      1.000000\n",
       "25%     246.000000         4.000000     0.990000   4119.500000\n",
       "50%     495.000000         5.000000     2.990000   8080.000000\n",
       "75%     743.000000         6.000000     4.990000  12078.250000\n",
       "max    1000.000000         7.000000     4.990000  16050.000000"
      ]
     },
     "execution_count": 36,
     "metadata": {},
     "output_type": "execute_result"
    }
   ],
   "source": [
    "data.describe()"
   ]
  },
  {
   "cell_type": "code",
   "execution_count": 37,
   "metadata": {
    "scrolled": true
   },
   "outputs": [
    {
     "data": {
      "text/plain": [
       "film_id             0\n",
       "film_title          0\n",
       "rental_duration     0\n",
       "rental_rate         0\n",
       "rental_id           0\n",
       "rental_date         0\n",
       "return_date        46\n",
       "dtype: int64"
      ]
     },
     "execution_count": 37,
     "metadata": {},
     "output_type": "execute_result"
    }
   ],
   "source": [
    "data.isnull().sum()"
   ]
  },
  {
   "cell_type": "code",
   "execution_count": 38,
   "metadata": {},
   "outputs": [],
   "source": [
    "data = data.dropna()"
   ]
  },
  {
   "cell_type": "markdown",
   "metadata": {},
   "source": [
    "#### EDA"
   ]
  },
  {
   "cell_type": "code",
   "execution_count": 39,
   "metadata": {},
   "outputs": [
    {
     "data": {
      "image/png": "[encoded data removed]",
      "text/plain": [
       "<Figure size 720x576 with 2 Axes>"
      ]
     },
     "metadata": {
      "needs_background": "light"
     },
     "output_type": "display_data"
    }
   ],
   "source": [
    "## I got lost as of here as my variables have really little correlation and if I check for the distribution I dont really understand\n",
    "\n",
    "\n",
    "corr_matrix=data.corr(method='pearson')\n",
    "fig, ax = plt.subplots(figsize=(10, 8))\n",
    "ax = sns.heatmap(corr_matrix, annot=True)\n",
    "plt.show()\n",
    "\n"
   ]
  },
  {
   "cell_type": "code",
   "execution_count": null,
   "metadata": {},
   "outputs": [],
   "source": [
    "## Apologies for not finishing it but didn't know how to proceed."
   ]
  }
 ],
 "metadata": {
  "kernelspec": {
   "display_name": "Python 3",
   "language": "python",
   "name": "python3"
  },
  "language_info": {
   "codemirror_mode": {
    "name": "ipython",
    "version": 3
   },
   "file_extension": ".py",
   "mimetype": "text/x-python",
   "name": "python",
   "nbconvert_exporter": "python",
   "pygments_lexer": "ipython3",
   "version": "3.8.5"
  }
 },
 "nbformat": 4,
 "nbformat_minor": 4
}
